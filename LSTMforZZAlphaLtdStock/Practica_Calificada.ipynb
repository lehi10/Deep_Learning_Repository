{
  "nbformat": 4,
  "nbformat_minor": 0,
  "metadata": {
    "colab": {
      "name": "Practica Calificada",
      "version": "0.3.2",
      "provenance": [],
      "collapsed_sections": [],
      "toc_visible": true
    },
    "kernelspec": {
      "name": "python3",
      "display_name": "Python 3"
    }
  },
  "cells": [
    {
      "cell_type": "markdown",
      "metadata": {
        "id": "1nVfpWJ8g__x",
        "colab_type": "text"
      },
      "source": [
        "## Importando librerias"
      ]
    },
    {
      "cell_type": "code",
      "metadata": {
        "id": "j-OWm2hve3uZ",
        "colab_type": "code",
        "outputId": "86c748a7-d7c0-4d7f-9caf-a02d943b9162",
        "colab": {
          "base_uri": "https://localhost:8080/",
          "height": 35
        }
      },
      "source": [
        "import numpy\n",
        "import matplotlib.pyplot as plt\n",
        "from pandas import read_csv\n",
        "import math\n",
        "from keras.models import Sequential\n",
        "from keras.layers import Dense\n",
        "from keras.layers import LSTM\n",
        "from sklearn.preprocessing import MinMaxScaler\n",
        "from sklearn.metrics import mean_squared_error\n",
        "\n",
        "import glob\n",
        "import csv\n",
        "\n"
      ],
      "execution_count": 1,
      "outputs": [
        {
          "output_type": "stream",
          "text": [
            "Using TensorFlow backend.\n"
          ],
          "name": "stderr"
        }
      ]
    },
    {
      "cell_type": "markdown",
      "metadata": {
        "id": "nO8O1CqPhD5D",
        "colab_type": "text"
      },
      "source": [
        "## Preprocesamiento de Datos"
      ]
    },
    {
      "cell_type": "code",
      "metadata": {
        "id": "QJPCUGvMgUdN",
        "colab_type": "code",
        "colab": {}
      },
      "source": [
        "def month_string_to_number(string):\n",
        "\tm = {\n",
        "\t\t'Jan': \"01\",\n",
        "\t\t'Feb': \"02\",\n",
        "\t\t'Mar': \"03\",\n",
        "\t\t'Apr':\"04\",\n",
        "\t\t 'May':\"05\",\n",
        "\t\t 'Jun':\"06\",\n",
        "\t\t 'Jul':\"07\"\t,\n",
        "\t\t 'Aug': \"08\",\n",
        "\t\t 'Sep':\"09\",\n",
        "\t\t 'Oct':\"10\",\n",
        "\t\t 'Nov':\"11\",\n",
        "\t\t 'Dec':\"12\"\n",
        "\t\t}\n",
        "\treturn m[string]\n",
        "\n",
        "\n",
        "def preprocesarData():\n",
        "\tpath = 'dataset/'  \n",
        "\tallFiles=glob.glob(path+\"/*/*.txt\")\n",
        "\t\n",
        "\tallFiles=sorted(allFiles)\n",
        "\n",
        "\tavgs =[]\n",
        "\tfor oneFile in allFiles:\n",
        "\t\tfilepath = oneFile\n",
        "\t\twith open(filepath) as fp:\n",
        "\t\t\tavgPerFile = 0\n",
        "\t\t\tcount = 0\n",
        "\t\t\tline = fp.readline()\n",
        "\t\t\tdate=\"\"\n",
        "\t\t\twhile line:\n",
        "\t\t\t\tvar= line.split()\n",
        "\t\t\t\tsize=len(var)       \n",
        "\t\t\t\tif size==0:\n",
        "\t\t\t\t\tbreak\n",
        "\t\t\t\tdate = var[2][:4]+\"-\"+month_string_to_number(var[0])+\"-\"+var[1]\n",
        "\t\t\t\tavg= float(var[size-1])\n",
        "\t\t\t\tcount+=1\n",
        "\t\t\t\tavgPerFile+=avg\n",
        "\t\t\n",
        "\t\t\t\tline = fp.readline()\n",
        "\t\t\tavgPerFile=(avgPerFile/count)\n",
        "\t\t\tavgs.append([date,avgPerFile])\n",
        "\n",
        "\tavgs=avgs\n",
        "\n",
        "\twith open('foo.csv', 'w') as writeFile:\n",
        "\t\twriter = csv.writer(writeFile)\n",
        "\t\twriter.writerows(avgs)\n",
        "\n",
        "#Convierte un array de valores en matriz\n",
        "def create_dataset(dataset, look_back=1):\n",
        "\tdataX, dataY = [], []\n",
        "\tfor i in range(len(dataset)-look_back-1):\n",
        "\t\ta = dataset[i:(i+look_back), 0]\n",
        "\t\tdataX.append(a)\n",
        "\t\tdataY.append(dataset[i + look_back, 0])\n",
        "\treturn numpy.array(dataX), numpy.array(dataY)\n",
        "\n"
      ],
      "execution_count": 0,
      "outputs": []
    },
    {
      "cell_type": "markdown",
      "metadata": {
        "id": "o4cKiFcugkkj",
        "colab_type": "text"
      },
      "source": [
        "## Separando los datos para Entrenamiento y para Pruebas"
      ]
    },
    {
      "cell_type": "code",
      "metadata": {
        "id": "vNY2A6T3gZj0",
        "colab_type": "code",
        "colab": {
          "base_uri": "https://localhost:8080/",
          "height": 53
        },
        "outputId": "3a5c90fa-9ad8-4bc1-cc62-66a1314ba3a1"
      },
      "source": [
        "\n",
        "print(\"Preprocesando DataSet\")\n",
        "preprocesarData()\n",
        "print(\"Preprocesamiento Finalizado\")\n",
        "\n",
        "numpy.random.seed(7)\n",
        "\n",
        "#Cargando dataSet\n",
        "dataframe = read_csv('foo.csv', usecols=[1], engine='python')\n",
        "dataset = dataframe.values\n",
        "dataset = dataset.astype('float32')\n",
        "\n",
        "# Normalizar el DataSet\n",
        "scaler = MinMaxScaler(feature_range=(0, 1))\n",
        "dataset = scaler.fit_transform(dataset)\n",
        "\n",
        "# Obtener data de Entrenamiento y Test\n",
        "train_size = int(len(dataset) * 0.67)\n",
        "test_size = len(dataset) - train_size\n",
        "train, test = dataset[0:train_size,:], dataset[train_size:len(dataset),:]\n",
        "\n",
        "# reshape  X=t y Y=t+1\n",
        "look_back = 3\n",
        "trainX, trainY = create_dataset(train, look_back)\n",
        "testX, testY = create_dataset(test, look_back)\n",
        "\n",
        "trainX = numpy.reshape(trainX, (trainX.shape[0], 1, trainX.shape[1]))\n",
        "testX = numpy.reshape(testX, (testX.shape[0], 1, testX.shape[1]))\n",
        "\n"
      ],
      "execution_count": 6,
      "outputs": [
        {
          "output_type": "stream",
          "text": [
            "Preprocesando DataSet\n",
            "Preprocesamiento Finalizado\n"
          ],
          "name": "stdout"
        }
      ]
    },
    {
      "cell_type": "markdown",
      "metadata": {
        "id": "ckGv3dL7hIrd",
        "colab_type": "text"
      },
      "source": [
        "## Generando el Modelo de nuestra red LSTM"
      ]
    },
    {
      "cell_type": "code",
      "metadata": {
        "id": "-HNoPkp7giJt",
        "colab_type": "code",
        "colab": {
          "base_uri": "https://localhost:8080/",
          "height": 163
        },
        "outputId": "f3c24d2b-d74c-4451-b719-980f00c45062"
      },
      "source": [
        "# Generar el Modelo\n",
        "\n",
        "model = Sequential()\n",
        "model.add(LSTM(4, input_shape=(1, look_back)))\n",
        "model.add(Dense(1))\n",
        "\n",
        "\n",
        "\n"
      ],
      "execution_count": 7,
      "outputs": [
        {
          "output_type": "stream",
          "text": [
            "WARNING: Logging before flag parsing goes to stderr.\n",
            "W0628 19:20:10.284950 140608562558848 deprecation_wrapper.py:119] From /usr/local/lib/python3.6/dist-packages/keras/backend/tensorflow_backend.py:74: The name tf.get_default_graph is deprecated. Please use tf.compat.v1.get_default_graph instead.\n",
            "\n",
            "W0628 19:20:10.337979 140608562558848 deprecation_wrapper.py:119] From /usr/local/lib/python3.6/dist-packages/keras/backend/tensorflow_backend.py:517: The name tf.placeholder is deprecated. Please use tf.compat.v1.placeholder instead.\n",
            "\n",
            "W0628 19:20:10.347566 140608562558848 deprecation_wrapper.py:119] From /usr/local/lib/python3.6/dist-packages/keras/backend/tensorflow_backend.py:4138: The name tf.random_uniform is deprecated. Please use tf.random.uniform instead.\n",
            "\n"
          ],
          "name": "stderr"
        }
      ]
    },
    {
      "cell_type": "markdown",
      "metadata": {
        "id": "vuoVbOt7hSCi",
        "colab_type": "text"
      },
      "source": [
        "##  Entrenamiento"
      ]
    },
    {
      "cell_type": "code",
      "metadata": {
        "id": "aUxlloPehRNs",
        "colab_type": "code",
        "colab": {
          "base_uri": "https://localhost:8080/",
          "height": 1000
        },
        "outputId": "5e58e88b-7a4c-45a9-dd21-25ec75e5ab34"
      },
      "source": [
        "##Realizamos el entrenamiento\n",
        "model.compile(loss='mean_squared_error', optimizer='adam')\n",
        "model.fit(trainX, trainY, epochs=100, batch_size=1, verbose=2)\n"
      ],
      "execution_count": 8,
      "outputs": [
        {
          "output_type": "stream",
          "text": [
            "W0628 19:20:52.517550 140608562558848 deprecation_wrapper.py:119] From /usr/local/lib/python3.6/dist-packages/keras/optimizers.py:790: The name tf.train.Optimizer is deprecated. Please use tf.compat.v1.train.Optimizer instead.\n",
            "\n",
            "W0628 19:20:52.801798 140608562558848 deprecation.py:323] From /usr/local/lib/python3.6/dist-packages/tensorflow/python/ops/math_grad.py:1250: add_dispatch_support.<locals>.wrapper (from tensorflow.python.ops.array_ops) is deprecated and will be removed in a future version.\n",
            "Instructions for updating:\n",
            "Use tf.where in 2.0, which has the same broadcast rule as np.where\n",
            "W0628 19:20:53.347896 140608562558848 deprecation_wrapper.py:119] From /usr/local/lib/python3.6/dist-packages/keras/backend/tensorflow_backend.py:986: The name tf.assign_add is deprecated. Please use tf.compat.v1.assign_add instead.\n",
            "\n",
            "W0628 19:20:53.437884 140608562558848 deprecation_wrapper.py:119] From /usr/local/lib/python3.6/dist-packages/keras/backend/tensorflow_backend.py:973: The name tf.assign is deprecated. Please use tf.compat.v1.assign instead.\n",
            "\n"
          ],
          "name": "stderr"
        },
        {
          "output_type": "stream",
          "text": [
            "Epoch 1/100\n",
            " - 2s - loss: 0.0568\n",
            "Epoch 2/100\n",
            " - 1s - loss: 0.0137\n",
            "Epoch 3/100\n",
            " - 1s - loss: 0.0126\n",
            "Epoch 4/100\n",
            " - 1s - loss: 0.0116\n",
            "Epoch 5/100\n",
            " - 1s - loss: 0.0106\n",
            "Epoch 6/100\n",
            " - 1s - loss: 0.0098\n",
            "Epoch 7/100\n",
            " - 1s - loss: 0.0092\n",
            "Epoch 8/100\n",
            " - 1s - loss: 0.0087\n",
            "Epoch 9/100\n",
            " - 1s - loss: 0.0083\n",
            "Epoch 10/100\n",
            " - 1s - loss: 0.0082\n",
            "Epoch 11/100\n",
            " - 1s - loss: 0.0081\n",
            "Epoch 12/100\n",
            " - 1s - loss: 0.0080\n",
            "Epoch 13/100\n",
            " - 1s - loss: 0.0079\n",
            "Epoch 14/100\n",
            " - 1s - loss: 0.0081\n",
            "Epoch 15/100\n",
            " - 1s - loss: 0.0080\n",
            "Epoch 16/100\n",
            " - 1s - loss: 0.0080\n",
            "Epoch 17/100\n",
            " - 1s - loss: 0.0079\n",
            "Epoch 18/100\n",
            " - 1s - loss: 0.0079\n",
            "Epoch 19/100\n",
            " - 1s - loss: 0.0080\n",
            "Epoch 20/100\n",
            " - 1s - loss: 0.0079\n",
            "Epoch 21/100\n",
            " - 1s - loss: 0.0077\n",
            "Epoch 22/100\n",
            " - 1s - loss: 0.0080\n",
            "Epoch 23/100\n",
            " - 1s - loss: 0.0079\n",
            "Epoch 24/100\n",
            " - 1s - loss: 0.0080\n",
            "Epoch 25/100\n",
            " - 1s - loss: 0.0078\n",
            "Epoch 26/100\n",
            " - 1s - loss: 0.0078\n",
            "Epoch 27/100\n",
            " - 1s - loss: 0.0080\n",
            "Epoch 28/100\n",
            " - 1s - loss: 0.0079\n",
            "Epoch 29/100\n",
            " - 1s - loss: 0.0078\n",
            "Epoch 30/100\n",
            " - 1s - loss: 0.0078\n",
            "Epoch 31/100\n",
            " - 1s - loss: 0.0079\n",
            "Epoch 32/100\n",
            " - 1s - loss: 0.0078\n",
            "Epoch 33/100\n",
            " - 1s - loss: 0.0077\n",
            "Epoch 34/100\n",
            " - 1s - loss: 0.0078\n",
            "Epoch 35/100\n",
            " - 1s - loss: 0.0078\n",
            "Epoch 36/100\n",
            " - 1s - loss: 0.0078\n",
            "Epoch 37/100\n",
            " - 1s - loss: 0.0077\n",
            "Epoch 38/100\n",
            " - 1s - loss: 0.0078\n",
            "Epoch 39/100\n",
            " - 1s - loss: 0.0077\n",
            "Epoch 40/100\n",
            " - 1s - loss: 0.0078\n",
            "Epoch 41/100\n",
            " - 1s - loss: 0.0079\n",
            "Epoch 42/100\n",
            " - 1s - loss: 0.0077\n",
            "Epoch 43/100\n",
            " - 1s - loss: 0.0078\n",
            "Epoch 44/100\n",
            " - 1s - loss: 0.0076\n",
            "Epoch 45/100\n",
            " - 1s - loss: 0.0077\n",
            "Epoch 46/100\n",
            " - 1s - loss: 0.0078\n",
            "Epoch 47/100\n",
            " - 1s - loss: 0.0078\n",
            "Epoch 48/100\n",
            " - 1s - loss: 0.0077\n",
            "Epoch 49/100\n",
            " - 1s - loss: 0.0077\n",
            "Epoch 50/100\n",
            " - 1s - loss: 0.0077\n",
            "Epoch 51/100\n",
            " - 1s - loss: 0.0076\n",
            "Epoch 52/100\n",
            " - 1s - loss: 0.0077\n",
            "Epoch 53/100\n",
            " - 1s - loss: 0.0077\n",
            "Epoch 54/100\n",
            " - 1s - loss: 0.0077\n",
            "Epoch 55/100\n",
            " - 1s - loss: 0.0076\n",
            "Epoch 56/100\n",
            " - 1s - loss: 0.0077\n",
            "Epoch 57/100\n",
            " - 1s - loss: 0.0077\n",
            "Epoch 58/100\n",
            " - 1s - loss: 0.0077\n",
            "Epoch 59/100\n",
            " - 1s - loss: 0.0077\n",
            "Epoch 60/100\n",
            " - 1s - loss: 0.0078\n",
            "Epoch 61/100\n",
            " - 1s - loss: 0.0077\n",
            "Epoch 62/100\n",
            " - 1s - loss: 0.0076\n",
            "Epoch 63/100\n",
            " - 1s - loss: 0.0077\n",
            "Epoch 64/100\n",
            " - 1s - loss: 0.0077\n",
            "Epoch 65/100\n",
            " - 1s - loss: 0.0078\n",
            "Epoch 66/100\n",
            " - 1s - loss: 0.0077\n",
            "Epoch 67/100\n",
            " - 1s - loss: 0.0078\n",
            "Epoch 68/100\n",
            " - 1s - loss: 0.0075\n",
            "Epoch 69/100\n",
            " - 1s - loss: 0.0076\n",
            "Epoch 70/100\n",
            " - 1s - loss: 0.0077\n",
            "Epoch 71/100\n",
            " - 1s - loss: 0.0078\n",
            "Epoch 72/100\n",
            " - 1s - loss: 0.0076\n",
            "Epoch 73/100\n",
            " - 1s - loss: 0.0076\n",
            "Epoch 74/100\n",
            " - 1s - loss: 0.0076\n",
            "Epoch 75/100\n",
            " - 1s - loss: 0.0077\n",
            "Epoch 76/100\n",
            " - 1s - loss: 0.0076\n",
            "Epoch 77/100\n",
            " - 1s - loss: 0.0078\n",
            "Epoch 78/100\n",
            " - 1s - loss: 0.0077\n",
            "Epoch 79/100\n",
            " - 1s - loss: 0.0078\n",
            "Epoch 80/100\n",
            " - 1s - loss: 0.0076\n",
            "Epoch 81/100\n",
            " - 1s - loss: 0.0077\n",
            "Epoch 82/100\n",
            " - 1s - loss: 0.0076\n",
            "Epoch 83/100\n",
            " - 1s - loss: 0.0076\n",
            "Epoch 84/100\n",
            " - 1s - loss: 0.0076\n",
            "Epoch 85/100\n",
            " - 1s - loss: 0.0076\n",
            "Epoch 86/100\n",
            " - 1s - loss: 0.0076\n",
            "Epoch 87/100\n",
            " - 1s - loss: 0.0075\n",
            "Epoch 88/100\n",
            " - 1s - loss: 0.0077\n",
            "Epoch 89/100\n",
            " - 1s - loss: 0.0076\n",
            "Epoch 90/100\n",
            " - 1s - loss: 0.0077\n",
            "Epoch 91/100\n",
            " - 1s - loss: 0.0076\n",
            "Epoch 92/100\n",
            " - 1s - loss: 0.0077\n",
            "Epoch 93/100\n",
            " - 1s - loss: 0.0076\n",
            "Epoch 94/100\n",
            " - 1s - loss: 0.0075\n",
            "Epoch 95/100\n",
            " - 1s - loss: 0.0076\n",
            "Epoch 96/100\n",
            " - 1s - loss: 0.0076\n",
            "Epoch 97/100\n",
            " - 1s - loss: 0.0075\n",
            "Epoch 98/100\n",
            " - 1s - loss: 0.0076\n",
            "Epoch 99/100\n",
            " - 1s - loss: 0.0077\n",
            "Epoch 100/100\n",
            " - 1s - loss: 0.0077\n"
          ],
          "name": "stdout"
        },
        {
          "output_type": "execute_result",
          "data": {
            "text/plain": [
              "<keras.callbacks.History at 0x7fe1b9e60978>"
            ]
          },
          "metadata": {
            "tags": []
          },
          "execution_count": 8
        }
      ]
    },
    {
      "cell_type": "markdown",
      "metadata": {
        "id": "k3Vciw_GhH64",
        "colab_type": "text"
      },
      "source": [
        "## Calcular las predicciones"
      ]
    },
    {
      "cell_type": "code",
      "metadata": {
        "id": "Zzg80graggMv",
        "colab_type": "code",
        "colab": {}
      },
      "source": [
        "#Hacer Predicciones\n",
        "trainPredict = model.predict(trainX)\n",
        "testPredict = model.predict(testX)\n",
        "\n",
        "trainPredict = scaler.inverse_transform(trainPredict)\n",
        "trainY = scaler.inverse_transform([trainY])\n",
        "testPredict = scaler.inverse_transform(testPredict)\n",
        "testY = scaler.inverse_transform([testY])\n"
      ],
      "execution_count": 0,
      "outputs": []
    },
    {
      "cell_type": "markdown",
      "metadata": {
        "id": "V1DiQtxBhYIu",
        "colab_type": "text"
      },
      "source": [
        "## Calcular el Error RMSE"
      ]
    },
    {
      "cell_type": "code",
      "metadata": {
        "id": "y-rwcbGPgeTN",
        "colab_type": "code",
        "colab": {
          "base_uri": "https://localhost:8080/",
          "height": 53
        },
        "outputId": "6fd7e6ed-2750-463a-b813-d5219b823257"
      },
      "source": [
        "\n",
        "# Calcular RMSE \n",
        "trainScore = math.sqrt(mean_squared_error(trainY[0], trainPredict[:,0]))\n",
        "print('Train Score: %.2f RMSE' % (trainScore))\n",
        "testScore = math.sqrt(mean_squared_error(testY[0], testPredict[:,0]))\n",
        "print('Test Score: %.2f RMSE' % (testScore))\n",
        "\n"
      ],
      "execution_count": 10,
      "outputs": [
        {
          "output_type": "stream",
          "text": [
            "Train Score: 0.01 RMSE\n",
            "Test Score: 0.02 RMSE\n"
          ],
          "name": "stdout"
        }
      ]
    },
    {
      "cell_type": "markdown",
      "metadata": {
        "id": "Tkzauu_5hXtI",
        "colab_type": "text"
      },
      "source": [
        "## Graficar los resultados"
      ]
    },
    {
      "cell_type": "code",
      "metadata": {
        "id": "78uyP7P9gbnC",
        "colab_type": "code",
        "colab": {
          "base_uri": "https://localhost:8080/",
          "height": 269
        },
        "outputId": "cd4f5bf2-e68a-4a2c-987d-2a87186b5360"
      },
      "source": [
        "# Grafico de entrenamiento\n",
        "trainPredictPlot = numpy.empty_like(dataset)\n",
        "trainPredictPlot[:, :] = numpy.nan\n",
        "trainPredictPlot[look_back:len(trainPredict)+look_back, :] = trainPredict\n",
        "\n",
        "# Grafico de Prueba\n",
        "testPredictPlot = numpy.empty_like(dataset)\n",
        "testPredictPlot[:, :] = numpy.nan\n",
        "testPredictPlot[len(trainPredict)+(look_back*2)+1:len(dataset)-1, :] = testPredict\n",
        "\n",
        "# Grafico de predicciones\n",
        "plt.plot(scaler.inverse_transform(dataset))\n",
        "plt.plot(trainPredictPlot)\n",
        "plt.plot(testPredictPlot)\n",
        "\n",
        "plt.show()"
      ],
      "execution_count": 11,
      "outputs": [
        {
          "output_type": "display_data",
          "data": {
            "image/png": "[encoded data removed]",
            "text/plain": [
              "<Figure size 432x288 with 1 Axes>"
            ]
          },
          "metadata": {
            "tags": []
          }
        }
      ]
    }
  ]
}